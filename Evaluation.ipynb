{
 "cells": [
  {
   "cell_type": "code",
   "execution_count": 1,
   "id": "9aac3986-98ab-455a-9c67-69e441317b6d",
   "metadata": {
    "tags": []
   },
   "outputs": [
    {
     "name": "stderr",
     "output_type": "stream",
     "text": [
      "IProgress not found. Please update jupyter and ipywidgets. See https://ipywidgets.readthedocs.io/en/stable/user_install.html\n"
     ]
    }
   ],
   "source": [
    "import os\n",
    "import sys\n",
    "from glob import glob\n",
    "import random\n",
    "import numpy as np\n",
    "import matplotlib.pyplot as plt\n",
    "from PIL import Image\n",
    "from tqdm import tqdm\n",
    "\n",
    "import torch\n",
    "import torch.nn as nn\n",
    "from torchvision import transforms\n",
    "import torchvision.transforms.functional as F\n",
    "\n",
    "import cv2\n",
    "import monai\n",
    "from monai.losses import DiceLoss, DiceCELoss\n",
    "from monai.metrics import DiceMetric\n",
    "from monai.inferers import sliding_window_inference\n",
    "from monai.data import CacheDataset, DataLoader, Dataset, decollate_batch\n",
    "from monai.transforms import (\n",
    "    AsDiscrete,\n",
    "    AsDiscreted,\n",
    "    EnsureChannelFirstd,\n",
    "    Compose,\n",
    "    CropForegroundd,\n",
    "    RandFlipd,\n",
    "    RandShiftIntensityd,\n",
    "    RandRotate90d,\n",
    "    LoadImaged,\n",
    "    Orientationd,\n",
    "    RandCropByPosNegLabeld,\n",
    "    SaveImaged,\n",
    "    ScaleIntensityRanged,\n",
    "    Spacingd,\n",
    "    Invertd,\n",
    ")\n",
    "import SimpleITK as sitk\n",
    "from scipy.spatial.distance import directed_hausdorff"
   ]
  },
  {
   "cell_type": "code",
   "execution_count": 2,
   "id": "15f2cb8e-f630-4b36-b440-2863165ff35e",
   "metadata": {
    "tags": []
   },
   "outputs": [],
   "source": [
    "min_intensity = -175\n",
    "max_intensity = 250"
   ]
  },
  {
   "cell_type": "code",
   "execution_count": 3,
   "id": "c3944bad-984b-4872-8f5c-c397bad37d38",
   "metadata": {
    "tags": []
   },
   "outputs": [
    {
     "name": "stdout",
     "output_type": "stream",
     "text": [
      "There are: 40 train and 10 validation samples.\n"
     ]
    }
   ],
   "source": [
    "# Loading training set\n",
    "random.seed(53)\n",
    "\n",
    "images = glob('../AortaSeg/images' + \"/*.mha\", recursive=True)\n",
    "masks = glob('../AortaSeg/masks' + \"/*.mha\", recursive=True)\n",
    "\n",
    "images = sorted(images)\n",
    "masks = sorted(masks)\n",
    "\n",
    "data_list = [{\"img\": img, \"mask\": mask} for img, mask in zip(images, masks)]\n",
    "\n",
    "num_train = int(0.8*len(data_list))\n",
    "\n",
    "num_val = len(data_list)-num_train\n",
    "\n",
    "train_list = random.sample(data_list, num_train)\n",
    "\n",
    "for element in train_list:\n",
    "    data_list.remove(element)\n",
    "\n",
    "val_list = data_list\n",
    "\n",
    "print(\"There are: {} train and {} validation samples.\".format(len(train_list), len(val_list)))"
   ]
  },
  {
   "cell_type": "code",
   "execution_count": 4,
   "id": "7f3c98e1-5c06-47f9-a283-43858121e351",
   "metadata": {
    "tags": []
   },
   "outputs": [
    {
     "name": "stdout",
     "output_type": "stream",
     "text": [
      "[{'img': '../AortaSeg/images/subject001_CTA.mha', 'mask': '../AortaSeg/masks/subject001_label.mha'}, {'img': '../AortaSeg/images/subject006_CTA.mha', 'mask': '../AortaSeg/masks/subject006_label.mha'}, {'img': '../AortaSeg/images/subject010_CTA.mha', 'mask': '../AortaSeg/masks/subject010_label.mha'}, {'img': '../AortaSeg/images/subject017_CTA.mha', 'mask': '../AortaSeg/masks/subject017_label.mha'}, {'img': '../AortaSeg/images/subject026_CTA.mha', 'mask': '../AortaSeg/masks/subject026_label.mha'}, {'img': '../AortaSeg/images/subject029_CTA.mha', 'mask': '../AortaSeg/masks/subject029_label.mha'}, {'img': '../AortaSeg/images/subject045_CTA.mha', 'mask': '../AortaSeg/masks/subject045_label.mha'}, {'img': '../AortaSeg/images/subject050_CTA.mha', 'mask': '../AortaSeg/masks/subject050_label.mha'}, {'img': '../AortaSeg/images/subject052_CTA.mha', 'mask': '../AortaSeg/masks/subject052_label.mha'}, {'img': '../AortaSeg/images/subject053_CTA.mha', 'mask': '../AortaSeg/masks/subject053_label.mha'}]\n"
     ]
    }
   ],
   "source": [
    "print(val_list)"
   ]
  },
  {
   "cell_type": "code",
   "execution_count": 5,
   "id": "541199c3-4215-429e-813f-e013f6499e8f",
   "metadata": {
    "tags": []
   },
   "outputs": [
    {
     "name": "stderr",
     "output_type": "stream",
     "text": [
      "monai.transforms.croppad.dictionary CropForegroundd.__init__:allow_smaller: Current default value of argument `allow_smaller=True` has been deprecated since version 1.2. It will be changed to `allow_smaller=False` in version 1.5.\n"
     ]
    }
   ],
   "source": [
    "val_transforms = Compose(\n",
    "    [\n",
    "        LoadImaged(keys=[\"img\", \"mask\"], ensure_channel_first=True),\n",
    "        ScaleIntensityRanged(\n",
    "            keys=[\"img\"],\n",
    "            a_min=min_intensity,\n",
    "            a_max=max_intensity,\n",
    "            b_min=0.0,\n",
    "            b_max=1.0,\n",
    "            clip=True,\n",
    "        ),\n",
    "        CropForegroundd(keys=[\"img\", \"mask\"], source_key=\"img\"),\n",
    "        Orientationd(keys=[\"img\", \"mask\"], axcodes=\"RAS\"),\n",
    "        Spacingd(keys=[\"img\", \"mask\"], pixdim=(2, 2, 2), mode=(\"bilinear\", \"nearest\"))\n",
    "\n",
    "    ]\n",
    ")"
   ]
  },
  {
   "cell_type": "code",
   "execution_count": 6,
   "id": "01a2c9c6-468a-49c7-9bd8-602280fd6281",
   "metadata": {
    "tags": []
   },
   "outputs": [],
   "source": [
    "num_cpus = torch.get_num_threads()"
   ]
  },
  {
   "cell_type": "code",
   "execution_count": 7,
   "id": "9d4ae694-c13b-4306-aa5d-13d552004651",
   "metadata": {
    "tags": []
   },
   "outputs": [
    {
     "name": "stderr",
     "output_type": "stream",
     "text": [
      "Loading dataset: 100%|██████████| 10/10 [01:04<00:00,  6.43s/it]\n"
     ]
    }
   ],
   "source": [
    "val_ds = CacheDataset(val_list, val_transforms, cache_num=len(val_list), cache_rate=1, num_workers = num_cpus)\n",
    "val_loader = DataLoader(val_ds, batch_size=1, num_workers=num_cpus, pin_memory=True)"
   ]
  },
  {
   "cell_type": "code",
   "execution_count": 8,
   "id": "c6800feb-4167-459b-938c-8d4c9b6be563",
   "metadata": {
    "tags": []
   },
   "outputs": [],
   "source": [
    "num_classes=24"
   ]
  },
  {
   "cell_type": "markdown",
   "id": "a3aaf9cd-54be-4f20-850f-048c8d7881e1",
   "metadata": {},
   "source": [
    "### Unet Evaluation"
   ]
  },
  {
   "cell_type": "code",
   "execution_count": 9,
   "id": "f3a01d66-bf3b-40fa-83bf-7b2bfddbd38a",
   "metadata": {
    "tags": []
   },
   "outputs": [],
   "source": [
    "unet = monai.networks.nets.UNet(\n",
    "    spatial_dims=3,\n",
    "    in_channels=1,\n",
    "    out_channels=num_classes,\n",
    "    channels=(32, 64, 128, 256, 512, 1024),\n",
    "    strides=(2, 2, 2, 2, 2),\n",
    "    num_res_units=0,\n",
    ").cuda()"
   ]
  },
  {
   "cell_type": "code",
   "execution_count": 10,
   "id": "186d73f5-aa52-4242-9154-dd8fa2d00160",
   "metadata": {
    "tags": []
   },
   "outputs": [
    {
     "data": {
      "text/plain": [
       "<All keys matched successfully>"
      ]
     },
     "execution_count": 10,
     "metadata": {},
     "output_type": "execute_result"
    }
   ],
   "source": [
    "unet.load_state_dict(torch.load(\"3DUNet_model.pth\", weights_only=True))"
   ]
  },
  {
   "cell_type": "code",
   "execution_count": 22,
   "id": "607df496-2371-4db9-923c-49745a5e78a1",
   "metadata": {
    "tags": []
   },
   "outputs": [
    {
     "name": "stdout",
     "output_type": "stream",
     "text": [
      "Begin to validate!!\n"
     ]
    },
    {
     "name": "stderr",
     "output_type": "stream",
     "text": [
      "100%|██████████| 10/10 [01:41<00:00, 10.13s/it]"
     ]
    },
    {
     "name": "stdout",
     "output_type": "stream",
     "text": [
      "Validation ended !!\n",
      "Mean Validation Dice is  0.6445080637931824\n",
      "Mean Surface distance is  4.335171699523926\n",
      "Mean Hausdorff distance is  17.256668090820312\n"
     ]
    },
    {
     "name": "stderr",
     "output_type": "stream",
     "text": [
      "\n"
     ]
    }
   ],
   "source": [
    "from monai.metrics import compute_hausdorff_distance, compute_average_surface_distance\n",
    "\n",
    "dice_metric = DiceMetric(include_background=False, reduction=\"mean\", get_not_nans=False, num_classes=num_classes)\n",
    "mean_hd = 0\n",
    "mean_sd = 0\n",
    "\n",
    "unet.eval()\n",
    "print('Begin to validate!!')\n",
    "with torch.no_grad():\n",
    "    for batch in tqdm(val_loader):\n",
    "        val_img = batch['img'].cuda()\n",
    "        val_mask = batch['mask'].cuda()\n",
    "        val_mask_one_hot = AsDiscrete(to_onehot = num_classes)(val_mask)\n",
    "\n",
    "        roi_size = (128,128,128)\n",
    "        sw_batch_size = 4\n",
    "        val_output = sliding_window_inference(val_img, roi_size, sw_batch_size, unet)        \n",
    "\n",
    "        val_output = torch.argmax(val_output, dim=1, keepdim=True)\n",
    "        val_output_one_hot = AsDiscrete(to_onehot = num_classes)(val_output)\n",
    "        \n",
    "        dice_metric(y_pred=val_output, y=val_mask)\n",
    "        \n",
    "        hd = compute_hausdorff_distance(y_pred = val_output_one_hot, y = val_mask_one_hot, \n",
    "                                        percentile=95, spacing = [2.0,2.0,2.0]).squeeze()\n",
    "        \n",
    "        \n",
    "        sd = compute_average_surface_distance(y_pred = val_output_one_hot, y = val_mask_one_hot,\n",
    "                                              spacing = [2.0,2.0,2.0]).squeeze()\n",
    "        \n",
    "        valid_mask_hd = torch.isfinite(hd)\n",
    "        \n",
    "        hd_filtered = hd[valid_mask_hd]\n",
    "        \n",
    "        valid_mask_sd = torch.isfinite(sd)\n",
    "        \n",
    "        sd_filtered = sd[valid_mask_sd]\n",
    "        \n",
    "        mean_hd += (hd_filtered.sum() / len(hd_filtered))\n",
    "        mean_sd += (sd_filtered.sum() / len(sd_filtered))\n",
    "        \n",
    "    mean_dice = dice_metric.aggregate().item()\n",
    "    dice_metric.reset()\n",
    "    mean_hd = mean_hd / 10\n",
    "    mean_sd = mean_sd / 10\n",
    "\n",
    "    print('Validation ended !!') \n",
    "    print(\"Mean Validation Dice is \",mean_dice)\n",
    "    print(\"Mean Surface distance is \", mean_sd.item())\n",
    "    print(\"Mean Hausdorff distance is \", mean_hd.item())"
   ]
  },
  {
   "cell_type": "markdown",
   "id": "c4d8a50c-4ee1-4025-af6d-ba89e14659c3",
   "metadata": {},
   "source": [
    "### VNet Evaluation"
   ]
  },
  {
   "cell_type": "code",
   "execution_count": 25,
   "id": "96eb9a1d-221a-45ea-ad04-e5a227b9d0db",
   "metadata": {
    "tags": []
   },
   "outputs": [],
   "source": [
    "vnet = monai.networks.nets.VNet(\n",
    "    spatial_dims=3,\n",
    "    in_channels=1,\n",
    "    out_channels=num_classes\n",
    ").cuda()"
   ]
  },
  {
   "cell_type": "code",
   "execution_count": 26,
   "id": "261ca71b-13e9-49bf-9e0c-ddf2bbd5fc7b",
   "metadata": {
    "tags": []
   },
   "outputs": [
    {
     "data": {
      "text/plain": [
       "<All keys matched successfully>"
      ]
     },
     "execution_count": 26,
     "metadata": {},
     "output_type": "execute_result"
    }
   ],
   "source": [
    "vnet.load_state_dict(torch.load(\"3DVNet_model.pth\", weights_only=True))"
   ]
  },
  {
   "cell_type": "code",
   "execution_count": 27,
   "id": "114d3bc4-c661-44bc-b00c-2e9a1b1eab5c",
   "metadata": {
    "tags": []
   },
   "outputs": [
    {
     "name": "stdout",
     "output_type": "stream",
     "text": [
      "Begin to validate!!\n"
     ]
    },
    {
     "name": "stderr",
     "output_type": "stream",
     "text": [
      "100%|██████████| 10/10 [01:46<00:00, 10.70s/it]"
     ]
    },
    {
     "name": "stdout",
     "output_type": "stream",
     "text": [
      "Validation ended !!\n",
      "Mean Validation Dice is  0.6744836568832397\n",
      "Mean Surface distance is  3.983412981033325\n",
      "Mean Hausdorff distance is  18.931427001953125\n"
     ]
    },
    {
     "name": "stderr",
     "output_type": "stream",
     "text": [
      "\n"
     ]
    }
   ],
   "source": [
    "from monai.metrics import compute_hausdorff_distance, compute_average_surface_distance\n",
    "\n",
    "dice_metric = DiceMetric(include_background=False, reduction=\"mean\", get_not_nans=False, num_classes=num_classes)\n",
    "mean_hd = 0\n",
    "mean_sd = 0\n",
    "\n",
    "vnet.eval()\n",
    "print('Begin to validate!!')\n",
    "with torch.no_grad():\n",
    "    for batch in tqdm(val_loader):\n",
    "        val_img = batch['img'].cuda()\n",
    "        val_mask = batch['mask'].cuda()\n",
    "        val_mask_one_hot = AsDiscrete(to_onehot = num_classes)(val_mask)\n",
    "\n",
    "        roi_size = (128,128,128)\n",
    "        sw_batch_size = 4\n",
    "        val_output = sliding_window_inference(val_img, roi_size, sw_batch_size, vnet)        \n",
    "\n",
    "        val_output = torch.argmax(val_output, dim=1, keepdim=True)\n",
    "        val_output_one_hot = AsDiscrete(to_onehot = num_classes)(val_output)\n",
    "        \n",
    "        dice_metric(y_pred=val_output, y=val_mask)\n",
    "        \n",
    "        hd = compute_hausdorff_distance(y_pred = val_output_one_hot, y = val_mask_one_hot, \n",
    "                                        percentile=95, spacing = [2.0,2.0,2.0]).squeeze()\n",
    "        \n",
    "        \n",
    "        sd = compute_average_surface_distance(y_pred = val_output_one_hot, y = val_mask_one_hot,\n",
    "                                              spacing = [2.0,2.0,2.0]).squeeze()\n",
    "        \n",
    "        valid_mask_hd = torch.isfinite(hd)\n",
    "        \n",
    "        hd_filtered = hd[valid_mask_hd]\n",
    "        \n",
    "        valid_mask_sd = torch.isfinite(sd)\n",
    "        \n",
    "        sd_filtered = sd[valid_mask_sd]\n",
    "        \n",
    "        mean_hd += (hd_filtered.sum() / len(hd_filtered))\n",
    "        mean_sd += (sd_filtered.sum() / len(sd_filtered))\n",
    "        \n",
    "    mean_dice = dice_metric.aggregate().item()\n",
    "    dice_metric.reset()\n",
    "    mean_hd = mean_hd / 10\n",
    "    mean_sd = mean_sd / 10\n",
    "\n",
    "    print('Validation ended !!') \n",
    "    print(\"Mean Validation Dice is \",mean_dice)\n",
    "    print(\"Mean Surface distance is \", mean_sd.item())\n",
    "    print(\"Mean Hausdorff distance is \", mean_hd.item())"
   ]
  },
  {
   "cell_type": "markdown",
   "id": "ef98713e-bf66-4738-85fc-f923a9cef7f8",
   "metadata": {},
   "source": [
    "### CIS-UNET Evaluation"
   ]
  },
  {
   "cell_type": "code",
   "execution_count": 9,
   "id": "4ccfa677-15ee-4be0-9652-807b796df6a1",
   "metadata": {
    "tags": []
   },
   "outputs": [],
   "source": [
    "from CIS_UNet import CIS_UNet\n",
    "\n",
    "encoder_channels = [64, 64, 128, 256]\n",
    "\n",
    "cisunet = CIS_UNet(spatial_dims=3, in_channels=1, num_classes=num_classes, encoder_channels=encoder_channels).cuda()"
   ]
  },
  {
   "cell_type": "code",
   "execution_count": 10,
   "id": "c4830f2e-f9b3-441b-a193-f748a89a0e7a",
   "metadata": {
    "tags": []
   },
   "outputs": [
    {
     "data": {
      "text/plain": [
       "<All keys matched successfully>"
      ]
     },
     "execution_count": 10,
     "metadata": {},
     "output_type": "execute_result"
    }
   ],
   "source": [
    "cisunet.load_state_dict(torch.load(\"CISUNet_model.pth\", weights_only=True))"
   ]
  },
  {
   "cell_type": "code",
   "execution_count": 11,
   "id": "c700b542-8e0f-4235-8c71-8e1702f3fbf2",
   "metadata": {
    "tags": []
   },
   "outputs": [
    {
     "name": "stdout",
     "output_type": "stream",
     "text": [
      "Begin to validate!!\n"
     ]
    },
    {
     "name": "stderr",
     "output_type": "stream",
     "text": [
      "100%|██████████| 10/10 [01:55<00:00, 11.54s/it]"
     ]
    },
    {
     "name": "stdout",
     "output_type": "stream",
     "text": [
      "Validation ended !!\n",
      "Mean Validation Dice is  0.6957284212112427\n",
      "Mean Surface distance is  4.5089898109436035\n",
      "Mean Hausdorff distance is  23.2863826751709\n"
     ]
    },
    {
     "name": "stderr",
     "output_type": "stream",
     "text": [
      "\n"
     ]
    }
   ],
   "source": [
    "from monai.metrics import compute_hausdorff_distance, compute_average_surface_distance\n",
    "\n",
    "dice_metric = DiceMetric(include_background=False, reduction=\"mean\", get_not_nans=False, num_classes=num_classes)\n",
    "mean_hd = 0\n",
    "mean_sd = 0\n",
    "\n",
    "cisunet.eval()\n",
    "print('Begin to validate!!')\n",
    "with torch.no_grad():\n",
    "    for batch in tqdm(val_loader):\n",
    "        val_img = batch['img'].cuda()\n",
    "        val_mask = batch['mask'].cuda()\n",
    "        val_mask_one_hot = AsDiscrete(to_onehot = num_classes)(val_mask)\n",
    "\n",
    "        roi_size = (128,128,128)\n",
    "        sw_batch_size = 4\n",
    "        val_output = sliding_window_inference(val_img, roi_size, sw_batch_size, cisunet)        \n",
    "\n",
    "        val_output = torch.argmax(val_output, dim=1, keepdim=True)\n",
    "        val_output_one_hot = AsDiscrete(to_onehot = num_classes)(val_output)\n",
    "        \n",
    "        dice_metric(y_pred=val_output, y=val_mask)\n",
    "        \n",
    "        hd = compute_hausdorff_distance(y_pred = val_output_one_hot, y = val_mask_one_hot, \n",
    "                                        percentile=95, spacing = [2.0,2.0,2.0]).squeeze()\n",
    "        \n",
    "        \n",
    "        sd = compute_average_surface_distance(y_pred = val_output_one_hot, y = val_mask_one_hot,\n",
    "                                              spacing = [2.0,2.0,2.0]).squeeze()\n",
    "        \n",
    "        valid_mask_hd = torch.isfinite(hd)\n",
    "        \n",
    "        hd_filtered = hd[valid_mask_hd]\n",
    "        \n",
    "        valid_mask_sd = torch.isfinite(sd)\n",
    "        \n",
    "        sd_filtered = sd[valid_mask_sd]\n",
    "        \n",
    "        mean_hd += (hd_filtered.sum() / len(hd_filtered))\n",
    "        mean_sd += (sd_filtered.sum() / len(sd_filtered))\n",
    "        \n",
    "    mean_dice = dice_metric.aggregate().item()\n",
    "    dice_metric.reset()\n",
    "    mean_hd = mean_hd / 10\n",
    "    mean_sd = mean_sd / 10\n",
    "\n",
    "    print('Validation ended !!') \n",
    "    print(\"Mean Validation Dice is \",mean_dice)\n",
    "    print(\"Mean Surface distance is \", mean_sd.item())\n",
    "    print(\"Mean Hausdorff distance is \", mean_hd.item())"
   ]
  },
  {
   "cell_type": "markdown",
   "id": "70c01914-4549-4012-a736-a8a459ed1a7b",
   "metadata": {},
   "source": [
    "### SWIN-UNETR Evaluation"
   ]
  },
  {
   "cell_type": "code",
   "execution_count": 12,
   "id": "a2cadfa7-0fbe-451c-8c33-94a29a3c29d3",
   "metadata": {
    "tags": []
   },
   "outputs": [
    {
     "name": "stderr",
     "output_type": "stream",
     "text": [
      "monai.networks.nets.swin_unetr SwinUNETR.__init__:img_size: Argument `img_size` has been deprecated since version 1.3. It will be removed in version 1.5. The img_size argument is not required anymore and checks on the input size are run during forward().\n"
     ]
    }
   ],
   "source": [
    "swin_unetr = monai.networks.nets.SwinUNETR(\n",
    "    img_size=128,\n",
    "    spatial_dims=3,\n",
    "    in_channels=1,\n",
    "    out_channels=num_classes\n",
    ").cuda()\n"
   ]
  },
  {
   "cell_type": "code",
   "execution_count": 13,
   "id": "9cb0eb07-2be1-43e7-ab30-3d2e647307fd",
   "metadata": {
    "tags": []
   },
   "outputs": [
    {
     "data": {
      "text/plain": [
       "<All keys matched successfully>"
      ]
     },
     "execution_count": 13,
     "metadata": {},
     "output_type": "execute_result"
    }
   ],
   "source": [
    "swin_unetr.load_state_dict(torch.load(\"SWIN_UNETR_model.pth\", weights_only=True))"
   ]
  },
  {
   "cell_type": "code",
   "execution_count": 14,
   "id": "c9f8de38-8f16-4eec-8d66-53af3e0a68db",
   "metadata": {
    "tags": []
   },
   "outputs": [
    {
     "name": "stdout",
     "output_type": "stream",
     "text": [
      "Begin to validate!!\n"
     ]
    },
    {
     "name": "stderr",
     "output_type": "stream",
     "text": [
      "100%|██████████| 10/10 [02:00<00:00, 12.07s/it]"
     ]
    },
    {
     "name": "stdout",
     "output_type": "stream",
     "text": [
      "Validation ended !!\n",
      "Mean Validation Dice is  0.659633457660675\n",
      "Mean Surface distance is  7.83279275894165\n",
      "Mean Hausdorff distance is  35.4498291015625\n"
     ]
    },
    {
     "name": "stderr",
     "output_type": "stream",
     "text": [
      "\n"
     ]
    }
   ],
   "source": [
    "from monai.metrics import compute_hausdorff_distance, compute_average_surface_distance\n",
    "\n",
    "dice_metric = DiceMetric(include_background=False, reduction=\"mean\", get_not_nans=False, num_classes=num_classes)\n",
    "mean_hd = 0\n",
    "mean_sd = 0\n",
    "\n",
    "swin_unetr.eval()\n",
    "print('Begin to validate!!')\n",
    "with torch.no_grad():\n",
    "    for batch in tqdm(val_loader):\n",
    "        val_img = batch['img'].cuda()\n",
    "        val_mask = batch['mask'].cuda()\n",
    "        val_mask_one_hot = AsDiscrete(to_onehot = num_classes)(val_mask)\n",
    "\n",
    "        roi_size = (128,128,128)\n",
    "        sw_batch_size = 4\n",
    "        val_output = sliding_window_inference(val_img, roi_size, sw_batch_size, swin_unetr)        \n",
    "\n",
    "        val_output = torch.argmax(val_output, dim=1, keepdim=True)\n",
    "        val_output_one_hot = AsDiscrete(to_onehot = num_classes)(val_output)\n",
    "        \n",
    "        dice_metric(y_pred=val_output, y=val_mask)\n",
    "        \n",
    "        hd = compute_hausdorff_distance(y_pred = val_output_one_hot, y = val_mask_one_hot, \n",
    "                                        percentile=95, spacing = [2.0,2.0,2.0]).squeeze()\n",
    "        \n",
    "        \n",
    "        sd = compute_average_surface_distance(y_pred = val_output_one_hot, y = val_mask_one_hot,\n",
    "                                              spacing = [2.0,2.0,2.0]).squeeze()\n",
    "        \n",
    "        valid_mask_hd = torch.isfinite(hd)\n",
    "        \n",
    "        hd_filtered = hd[valid_mask_hd]\n",
    "        \n",
    "        valid_mask_sd = torch.isfinite(sd)\n",
    "        \n",
    "        sd_filtered = sd[valid_mask_sd]\n",
    "        \n",
    "        mean_hd += (hd_filtered.sum() / len(hd_filtered))\n",
    "        mean_sd += (sd_filtered.sum() / len(sd_filtered))\n",
    "        \n",
    "    mean_dice = dice_metric.aggregate().item()\n",
    "    dice_metric.reset()\n",
    "    mean_hd = mean_hd / 10\n",
    "    mean_sd = mean_sd / 10\n",
    "\n",
    "    print('Validation ended !!') \n",
    "    print(\"Mean Validation Dice is \",mean_dice)\n",
    "    print(\"Mean Surface distance is \", mean_sd.item())\n",
    "    print(\"Mean Hausdorff distance is \", mean_hd.item())"
   ]
  },
  {
   "cell_type": "markdown",
   "id": "25a5c06e-26a2-4c3b-8a08-d33af298a281",
   "metadata": {},
   "source": [
    "For obtaining 3D Visualizations, I used SimpleITK to write predicted output images to disk and then loaded in 3D Slicer"
   ]
  },
  {
   "cell_type": "code",
   "execution_count": null,
   "id": "2004d840-e91b-41d8-b31d-aa9da89ff96d",
   "metadata": {},
   "outputs": [],
   "source": []
  }
 ],
 "metadata": {
  "kernelspec": {
   "display_name": "EEL6935_MONAI",
   "language": "python",
   "name": "eel6935monai"
  },
  "language_info": {
   "codemirror_mode": {
    "name": "ipython",
    "version": 3
   },
   "file_extension": ".py",
   "mimetype": "text/x-python",
   "name": "python",
   "nbconvert_exporter": "python",
   "pygments_lexer": "ipython3",
   "version": "3.12.3"
  }
 },
 "nbformat": 4,
 "nbformat_minor": 5
}
